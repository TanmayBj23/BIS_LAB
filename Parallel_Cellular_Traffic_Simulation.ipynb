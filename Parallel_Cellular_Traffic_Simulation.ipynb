{
  "nbformat": 4,
  "nbformat_minor": 0,
  "metadata": {
    "colab": {
      "provenance": [],
      "authorship_tag": "ABX9TyPz2r4XuHNHo/zyteotigf7",
      "include_colab_link": true
    },
    "kernelspec": {
      "name": "python3",
      "display_name": "Python 3"
    },
    "language_info": {
      "name": "python"
    }
  },
  "cells": [
    {
      "cell_type": "markdown",
      "metadata": {
        "id": "view-in-github",
        "colab_type": "text"
      },
      "source": [
        "<a href=\"https://colab.research.google.com/github/TanmayBj23/BIS_LAB/blob/main/Parallel_Cellular_Traffic_Simulation.ipynb\" target=\"_parent\"><img src=\"https://colab.research.google.com/assets/colab-badge.svg\" alt=\"Open In Colab\"/></a>"
      ]
    },
    {
      "cell_type": "code",
      "execution_count": null,
      "metadata": {
        "colab": {
          "base_uri": "https://localhost:8080/"
        },
        "id": "aqo15-vk9TZs",
        "outputId": "7f5c414f-5272-43d6-d9d6-d967c3fe7977"
      },
      "outputs": [
        {
          "output_type": "stream",
          "name": "stdout",
          "text": [
            "Iteration 1: Best Fitness = 0.018591115906819673\n",
            "Iteration 2: Best Fitness = 0.018591115906819673\n",
            "Iteration 3: Best Fitness = 0.018591115906819673\n",
            "Iteration 4: Best Fitness = 0.018591115906819673\n",
            "Iteration 5: Best Fitness = 0.018591115906819673\n",
            "Iteration 6: Best Fitness = 0.018591115906819673\n",
            "Iteration 7: Best Fitness = 0.018591115906819673\n",
            "Iteration 8: Best Fitness = 0.018591115906819673\n",
            "Iteration 9: Best Fitness = 0.018591115906819673\n",
            "Iteration 10: Best Fitness = 0.018591115906819673\n",
            "Best Solution Found: Position = -0.13634924241380908, Fitness = 0.018591115906819673\n"
          ]
        }
      ],
      "source": [
        "import random\n",
        "import numpy as np\n",
        "import concurrent.futures\n",
        "\n",
        "# Step 1: Define the Optimization Problem (Objective Function)\n",
        "def optimization_function(cell_position):\n",
        "    # Example: Minimize the function f(x) = x^2 (simple quadratic function)\n",
        "    return cell_position**2\n",
        "\n",
        "# Step 2: Initialize Parameters\n",
        "GRID_SIZE = 10  # Define grid size (NxN)\n",
        "NUM_CELLS = GRID_SIZE * GRID_SIZE  # Total number of cells\n",
        "NUM_ITERATIONS = 10  # Number of iterations\n",
        "NEIGHBORHOOD = 8  # Number of neighbors (e.g., 8 for Moore neighborhood)\n",
        "\n",
        "# Step 3: Initialize Population\n",
        "class Cell:\n",
        "    def __init__(self, position):\n",
        "        self.position = position  # Position in the solution space\n",
        "        self.fitness = optimization_function(position)  # Fitness of the cell\n",
        "\n",
        "def generate_random_position():\n",
        "    # Random initialization within a certain range (for simplicity, using range -10 to 10)\n",
        "    return random.uniform(-10, 10)\n",
        "\n",
        "# Create the grid of cells\n",
        "grid = np.array([[Cell(generate_random_position()) for _ in range(GRID_SIZE)] for _ in range(GRID_SIZE)])\n",
        "\n",
        "# Step 4: Evaluate Fitness\n",
        "def evaluate_fitness(cell):\n",
        "    cell.fitness = optimization_function(cell.position)\n",
        "\n",
        "# Step 5: Update States (Interaction with Neighbors)\n",
        "def update_cell_state(cell, neighbors):\n",
        "    best_neighbor = find_best_neighbor(neighbors)\n",
        "    cell.position = best_neighbor.position\n",
        "    evaluate_fitness(cell)\n",
        "\n",
        "def find_best_neighbor(neighbors):\n",
        "    best_fitness = float('inf')\n",
        "    best_neighbor = None\n",
        "    for neighbor in neighbors:\n",
        "        if neighbor.fitness < best_fitness:\n",
        "            best_fitness = neighbor.fitness\n",
        "            best_neighbor = neighbor\n",
        "    return best_neighbor\n",
        "\n",
        "def get_neighbors(cell, grid):\n",
        "    row, col = np.where(grid == cell)\n",
        "    neighbors = []\n",
        "\n",
        "    # Check all 8 neighbors in the Moore neighborhood\n",
        "    for i in range(max(0, row[0]-1), min(GRID_SIZE, row[0]+2)):\n",
        "        for j in range(max(0, col[0]-1), min(GRID_SIZE, col[0]+2)):\n",
        "            if (i, j) != (row[0], col[0]):\n",
        "                neighbors.append(grid[i][j])\n",
        "    return neighbors\n",
        "\n",
        "# Step 6: Iterate (Main Loop)\n",
        "def parallel_cell_update(grid):\n",
        "    with concurrent.futures.ThreadPoolExecutor() as executor:\n",
        "        futures = []\n",
        "        for row in grid:\n",
        "            for cell in row:\n",
        "                neighbors = get_neighbors(cell, grid)\n",
        "                futures.append(executor.submit(update_cell_state, cell, neighbors))\n",
        "\n",
        "        # Wait for all futures to complete\n",
        "        concurrent.futures.wait(futures)\n",
        "\n",
        "# Step 7: Output the Best Solution\n",
        "def find_best_solution(grid):\n",
        "    best_fitness = float('inf')\n",
        "    best_cell = None\n",
        "    for row in grid:\n",
        "        for cell in row:\n",
        "            if cell.fitness < best_fitness:\n",
        "                best_fitness = cell.fitness\n",
        "                best_cell = cell\n",
        "    return best_cell\n",
        "\n",
        "def convergence_condition_met(best_cell, threshold=0.01):\n",
        "    # Check if the fitness improvement is smaller than a threshold\n",
        "    return best_cell.fitness < threshold\n",
        "\n",
        "# Main execution loop\n",
        "best_cell_overall = None\n",
        "for iteration in range(NUM_ITERATIONS):\n",
        "    # Parallel update step: Update all cells based on neighbors\n",
        "    parallel_cell_update(grid)\n",
        "\n",
        "    # Find the best cell in the grid after the update\n",
        "    best_cell = find_best_solution(grid)\n",
        "\n",
        "    # Track the best solution overall\n",
        "    if best_cell_overall is None or best_cell.fitness < best_cell_overall.fitness:\n",
        "        best_cell_overall = best_cell\n",
        "\n",
        "    # Print iteration info\n",
        "    print(f\"Iteration {iteration + 1}: Best Fitness = {best_cell_overall.fitness}\")\n",
        "\n",
        "    # Check for convergence (optional)\n",
        "    if convergence_condition_met(best_cell_overall):\n",
        "        print(\"Convergence met, stopping early.\")\n",
        "        break\n",
        "\n",
        "# Output the final best solution\n",
        "print(f\"Best Solution Found: Position = {best_cell_overall.position}, Fitness = {best_cell_overall.fitness}\")\n"
      ]
    },
    {
      "cell_type": "code",
      "source": [
        "import numpy as np\n",
        "import matplotlib.pyplot as plt\n",
        "import time\n",
        "\n",
        "def initialize_road(length, car_density):\n",
        "    \"\"\"\n",
        "    Initialize the road with cars based on the given density.\n",
        "    :param length: Length of the road.\n",
        "    :param car_density: Fraction of cells occupied by cars.\n",
        "    :return: 1D numpy array representing the road.\n",
        "    \"\"\"\n",
        "    road = np.zeros(length, dtype=int)\n",
        "    num_cars = int(car_density * length)\n",
        "    car_positions = np.random.choice(length, num_cars, replace=False)\n",
        "    road[car_positions] = 1\n",
        "    return road\n",
        "\n",
        "def update_road(road):\n",
        "    \"\"\"\n",
        "    Update the road based on cellular automata rules.\n",
        "    :param road: Current state of the road.\n",
        "    :return: Updated state of the road.\n",
        "    \"\"\"\n",
        "    new_road = road.copy()\n",
        "    for i in range(len(road)):\n",
        "        if road[i] == 1 and road[(i + 1) % len(road)] == 0:  # Check if the next cell is empty\n",
        "            new_road[i] = 0\n",
        "            new_road[(i + 1) % len(road)] = 1\n",
        "    return new_road\n",
        "\n",
        "def simulate_traffic(length, car_density, steps, display=True):\n",
        "    \"\"\"\n",
        "    Simulate traffic flow using cellular automata.\n",
        "    :param length: Length of the road.\n",
        "    :param car_density: Fraction of cells occupied by cars.\n",
        "    :param steps: Number of simulation steps.\n",
        "    :param display: Whether to display the simulation.\n",
        "    \"\"\"\n",
        "    road = initialize_road(length, car_density)\n",
        "    history = [road.copy()]\n",
        "\n",
        "    for _ in range(steps):\n",
        "        road = update_road(road)\n",
        "        history.append(road.copy())\n",
        "\n",
        "        if display:\n",
        "            plt.imshow([road], cmap=\"binary\", aspect=\"auto\")\n",
        "            plt.title(\"Traffic Simulation\")\n",
        "            plt.xlabel(\"Road Cells\")\n",
        "            plt.ylabel(\"Time Step\")\n",
        "            plt.pause(0.1)\n",
        "\n",
        "    if display:\n",
        "        plt.show()\n",
        "\n",
        "    return history\n",
        "\n",
        "if __name__ == \"__main__\":\n",
        "    # Simulation parameters\n",
        "    road_length = 50       # Number of cells\n",
        "    car_density = 0.3      # Fraction of road occupied by cars\n",
        "    time_steps = 2        # Number of time steps to simulate\n",
        "\n",
        "    # Run the simulation\n",
        "    traffic_history = simulate_traffic(road_length, car_density, time_steps)\n"
      ],
      "metadata": {
        "colab": {
          "base_uri": "https://localhost:8080/",
          "height": 927
        },
        "id": "9glyG0rIF9IJ",
        "outputId": "5a0abed2-9e9d-435c-f21f-28b730cd6ef9"
      },
      "execution_count": 3,
      "outputs": [
        {
          "output_type": "display_data",
          "data": {
            "text/plain": [
              "<Figure size 640x480 with 1 Axes>"
            ],
            "image/png": "[encoded data removed]"
          },
          "metadata": {}
        },
        {
          "output_type": "display_data",
          "data": {
            "text/plain": [
              "<Figure size 640x480 with 1 Axes>"
            ],
            "image/png": "[encoded data removed]"
          },
          "metadata": {}
        }
      ]
    }
  ]
}