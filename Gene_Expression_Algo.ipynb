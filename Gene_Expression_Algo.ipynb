{
  "nbformat": 4,
  "nbformat_minor": 0,
  "metadata": {
    "colab": {
      "provenance": [],
      "authorship_tag": "ABX9TyNNinzpOHIvYaQ0N/u0Tg2L",
      "include_colab_link": true
    },
    "kernelspec": {
      "name": "python3",
      "display_name": "Python 3"
    },
    "language_info": {
      "name": "python"
    }
  },
  "cells": [
    {
      "cell_type": "markdown",
      "metadata": {
        "id": "view-in-github",
        "colab_type": "text"
      },
      "source": [
        "<a href=\"https://colab.research.google.com/github/TanmayBj23/BIS_LAB/blob/main/Gene_Expression_Algo.ipynb\" target=\"_parent\"><img src=\"https://colab.research.google.com/assets/colab-badge.svg\" alt=\"Open In Colab\"/></a>"
      ]
    },
    {
      "cell_type": "code",
      "execution_count": 6,
      "metadata": {
        "colab": {
          "base_uri": "https://localhost:8080/"
        },
        "id": "j-q6YCMsgA7m",
        "outputId": "feff559f-7e77-493a-ed78-d4f79ddc6525"
      },
      "outputs": [
        {
          "output_type": "stream",
          "name": "stdout",
          "text": [
            "Generation 1: Best Fitness = 7.753999060432997\n",
            "Generation 2: Best Fitness = 7.753999060432997\n",
            "Generation 3: Best Fitness = 7.837525088480672\n",
            "Generation 4: Best Fitness = 4.781706816876702\n",
            "Generation 5: Best Fitness = -2.534055213190368\n",
            "Generation 6: Best Fitness = 1.5421049089659034\n",
            "Generation 7: Best Fitness = 1.9527263537460373\n",
            "Generation 8: Best Fitness = 2.7396722976765546\n",
            "Generation 9: Best Fitness = -0.9023514966096238\n",
            "Generation 10: Best Fitness = 0.40915237089145545\n",
            "Generation 11: Best Fitness = 1.8170045915270605\n",
            "Generation 12: Best Fitness = 0.3226293955709163\n",
            "Generation 13: Best Fitness = -2.193991290735217\n",
            "Generation 14: Best Fitness = 0.004294760782383895\n",
            "Generation 15: Best Fitness = -2.5698553731614746\n",
            "Generation 16: Best Fitness = 1.7346788741650052\n",
            "Generation 17: Best Fitness = 3.822582515872763\n",
            "Generation 18: Best Fitness = 0.8659809696271437\n",
            "Generation 19: Best Fitness = 3.676324863242478\n",
            "Generation 20: Best Fitness = -0.3073177871589717\n",
            "Best Solution: x = 8.853399909459359, Fitness = 4.787845353561675\n"
          ]
        }
      ],
      "source": [
        "import numpy as np\n",
        "import random\n",
        "\n",
        "def fitness_function(x):\n",
        "    return np.sin(x) * x\n",
        "\n",
        "POPULATION_SIZE = 20\n",
        "NUM_GENES = 1  # Each genetic sequence represents a single variable (x)\n",
        "MUTATION_RATE = 0.1\n",
        "CROSSOVER_RATE = 0.8\n",
        "NUM_GENERATIONS = 20\n",
        "DOMAIN = (-10, 10)  # Search space for x\n",
        "\n",
        "\n",
        "def initialize_population():\n",
        "    return [np.random.uniform(DOMAIN[0], DOMAIN[1], NUM_GENES) for _ in range(POPULATION_SIZE)]\n",
        "\n",
        "# Evaluate the fitness of each genetic sequence\n",
        "def evaluate_fitness(population):\n",
        "    return [fitness_function(individual[0]) for individual in population]\n",
        "\n",
        "# Select genetic sequences based on their fitness (roulette wheel selection)\n",
        "def select_population(population, fitness):\n",
        "    fitness_sum = sum(fitness)\n",
        "    probabilities = [f / fitness_sum for f in fitness]\n",
        "    selected = random.choices(population, probabilities, k=POPULATION_SIZE)\n",
        "    return selected\n",
        "\n",
        "# Perform crossover between selected sequences to produce offspring\n",
        "def crossover(parent1, parent2):\n",
        "    if NUM_GENES == 1 or random.random() >= CROSSOVER_RATE:\n",
        "        # Return parents directly if crossover is not applicable or skipped\n",
        "        return parent1, parent2\n",
        "    # Perform crossover at a random point\n",
        "    point = random.randint(1, NUM_GENES - 1) if NUM_GENES > 1 else 0\n",
        "    child1 = np.concatenate((parent1[:point], parent2[point:]))\n",
        "    child2 = np.concatenate((parent2[:point], parent1[point:]))\n",
        "    return child1, child2\n",
        "\n",
        "# Apply mutation to the offspring to introduce variability\n",
        "def mutate(individual):\n",
        "    for i in range(NUM_GENES):\n",
        "        if random.random() < MUTATION_RATE:\n",
        "            individual[i] = np.random.uniform(DOMAIN[0], DOMAIN[1])\n",
        "    return individual\n",
        "\n",
        "# Gene expression: translate genetic sequences into functional solutions\n",
        "# (Already represented directly by the genetic sequence)\n",
        "\n",
        "def gene_expression_algorithm():\n",
        "    # Step 1: Initialize Population\n",
        "    population = initialize_population()\n",
        "\n",
        "    for generation in range(NUM_GENERATIONS):\n",
        "        # Step 2: Evaluate Fitness\n",
        "        fitness = evaluate_fitness(population)\n",
        "\n",
        "        # Track the best solution in the population\n",
        "        best_fitness = max(fitness)\n",
        "        best_individual = population[fitness.index(best_fitness)]\n",
        "\n",
        "        print(f\"Generation {generation + 1}: Best Fitness = {best_fitness}\")\n",
        "\n",
        "        # Step 3: Selection\n",
        "        selected_population = select_population(population, fitness)\n",
        "\n",
        "        # Step 4: Crossover\n",
        "        next_population = []\n",
        "        for i in range(0, POPULATION_SIZE, 2):\n",
        "            parent1 = selected_population[i]\n",
        "            parent2 = selected_population[(i + 1) % POPULATION_SIZE]\n",
        "            child1, child2 = crossover(parent1, parent2)\n",
        "            next_population.append(child1)\n",
        "            next_population.append(child2)\n",
        "\n",
        "        # Step 5: Mutation\n",
        "        population = [mutate(individual) for individual in next_population]\n",
        "\n",
        "    # Output the best solution\n",
        "    fitness = evaluate_fitness(population)\n",
        "    best_fitness = max(fitness)\n",
        "    best_individual = population[fitness.index(best_fitness)]\n",
        "    print(f\"Best Solution: x = {best_individual[0]}, Fitness = {best_fitness}\")\n",
        "\n",
        "# Run the Gene Expression Algorithm\n",
        "gene_expression_algorithm()\n"
      ]
    },
    {
      "cell_type": "code",
      "source": [],
      "metadata": {
        "id": "ASKDVCxnhcg9"
      },
      "execution_count": null,
      "outputs": []
    }
  ]
}